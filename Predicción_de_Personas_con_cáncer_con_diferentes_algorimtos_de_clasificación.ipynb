{
  "cells": [
    {
      "cell_type": "markdown",
      "metadata": {
        "id": "view-in-github",
        "colab_type": "text"
      },
      "source": [
        "<a href=\"https://colab.research.google.com/github/JaimeJaner/Prediccion-de-Personas-con-cancer-con-diferentes-algoritmos-de-clasificacion/blob/main/Predicci%C3%B3n_de_Personas_con_c%C3%A1ncer_con_diferentes_algorimtos_de_clasificaci%C3%B3n.ipynb\" target=\"_parent\"><img src=\"https://colab.research.google.com/assets/colab-badge.svg\" alt=\"Open In Colab\"/></a>"
      ]
    },
    {
      "cell_type": "markdown",
      "source": [
        "# Diferentes Algoritmos de clasificación para la predicción de personas con cáncer"
      ],
      "metadata": {
        "id": "TikuxSP1STMV"
      }
    },
    {
      "cell_type": "markdown",
      "source": [
        "# Acerca del dataset del proyecto:\n",
        "\n",
        "\"El conjunto de datos proporcionado es una colección generada de manera sintética con el objetivo de simular un escenario de predicción de cáncer con fines de investigación. Consta de 10,000 pseudo-pacientes, cada uno caracterizado por cinco parámetros distintos, a saber: Género, Edad, Tabaquismo, Fatiga y Alergia, junto con un indicador binario que denota la presencia o ausencia de cáncer. Este conjunto de datos sintético sirve como una herramienta para que los investigadores exploren y experimenten con modelos predictivos para la detección de cáncer.\""
      ],
      "metadata": {
        "id": "vSY8j5UNSRIW"
      }
    },
    {
      "cell_type": "markdown",
      "source": [
        "# Importación del conjunto de datos y librerías necesarias.\n"
      ],
      "metadata": {
        "id": "vi51UKbCSSNt"
      }
    },
    {
      "cell_type": "code",
      "source": [
        "import numpy as np\n",
        "import pandas as pd\n",
        "from google.colab import files\n",
        "\n",
        "# Sube el archivo CSV desde tu computadora\n",
        "uploaded = files.upload()\n",
        "\n",
        "# Lee el archivo CSV en un DataFrame de pandas\n",
        "for filename in uploaded.keys():\n",
        "    dataset = pd.read_csv(filename)\n",
        "\n",
        "# Muestra las primeras filas del DataFrame\n",
        "print(dataset.head())\n"
      ],
      "metadata": {
        "colab": {
          "base_uri": "https://localhost:8080/",
          "height": 177
        },
        "id": "FvksOPmvTaJa",
        "outputId": "71001fc5-5d72-4d5d-deff-c797b70759c7"
      },
      "execution_count": 4,
      "outputs": [
        {
          "output_type": "display_data",
          "data": {
            "text/plain": [
              "<IPython.core.display.HTML object>"
            ],
            "text/html": [
              "\n",
              "     <input type=\"file\" id=\"files-1bedfe3a-fd94-481f-88e8-03889ae2a7ac\" name=\"files[]\" multiple disabled\n",
              "        style=\"border:none\" />\n",
              "     <output id=\"result-1bedfe3a-fd94-481f-88e8-03889ae2a7ac\">\n",
              "      Upload widget is only available when the cell has been executed in the\n",
              "      current browser session. Please rerun this cell to enable.\n",
              "      </output>\n",
              "      <script>// Copyright 2017 Google LLC\n",
              "//\n",
              "// Licensed under the Apache License, Version 2.0 (the \"License\");\n",
              "// you may not use this file except in compliance with the License.\n",
              "// You may obtain a copy of the License at\n",
              "//\n",
              "//      http://www.apache.org/licenses/LICENSE-2.0\n",
              "//\n",
              "// Unless required by applicable law or agreed to in writing, software\n",
              "// distributed under the License is distributed on an \"AS IS\" BASIS,\n",
              "// WITHOUT WARRANTIES OR CONDITIONS OF ANY KIND, either express or implied.\n",
              "// See the License for the specific language governing permissions and\n",
              "// limitations under the License.\n",
              "\n",
              "/**\n",
              " * @fileoverview Helpers for google.colab Python module.\n",
              " */\n",
              "(function(scope) {\n",
              "function span(text, styleAttributes = {}) {\n",
              "  const element = document.createElement('span');\n",
              "  element.textContent = text;\n",
              "  for (const key of Object.keys(styleAttributes)) {\n",
              "    element.style[key] = styleAttributes[key];\n",
              "  }\n",
              "  return element;\n",
              "}\n",
              "\n",
              "// Max number of bytes which will be uploaded at a time.\n",
              "const MAX_PAYLOAD_SIZE = 100 * 1024;\n",
              "\n",
              "function _uploadFiles(inputId, outputId) {\n",
              "  const steps = uploadFilesStep(inputId, outputId);\n",
              "  const outputElement = document.getElementById(outputId);\n",
              "  // Cache steps on the outputElement to make it available for the next call\n",
              "  // to uploadFilesContinue from Python.\n",
              "  outputElement.steps = steps;\n",
              "\n",
              "  return _uploadFilesContinue(outputId);\n",
              "}\n",
              "\n",
              "// This is roughly an async generator (not supported in the browser yet),\n",
              "// where there are multiple asynchronous steps and the Python side is going\n",
              "// to poll for completion of each step.\n",
              "// This uses a Promise to block the python side on completion of each step,\n",
              "// then passes the result of the previous step as the input to the next step.\n",
              "function _uploadFilesContinue(outputId) {\n",
              "  const outputElement = document.getElementById(outputId);\n",
              "  const steps = outputElement.steps;\n",
              "\n",
              "  const next = steps.next(outputElement.lastPromiseValue);\n",
              "  return Promise.resolve(next.value.promise).then((value) => {\n",
              "    // Cache the last promise value to make it available to the next\n",
              "    // step of the generator.\n",
              "    outputElement.lastPromiseValue = value;\n",
              "    return next.value.response;\n",
              "  });\n",
              "}\n",
              "\n",
              "/**\n",
              " * Generator function which is called between each async step of the upload\n",
              " * process.\n",
              " * @param {string} inputId Element ID of the input file picker element.\n",
              " * @param {string} outputId Element ID of the output display.\n",
              " * @return {!Iterable<!Object>} Iterable of next steps.\n",
              " */\n",
              "function* uploadFilesStep(inputId, outputId) {\n",
              "  const inputElement = document.getElementById(inputId);\n",
              "  inputElement.disabled = false;\n",
              "\n",
              "  const outputElement = document.getElementById(outputId);\n",
              "  outputElement.innerHTML = '';\n",
              "\n",
              "  const pickedPromise = new Promise((resolve) => {\n",
              "    inputElement.addEventListener('change', (e) => {\n",
              "      resolve(e.target.files);\n",
              "    });\n",
              "  });\n",
              "\n",
              "  const cancel = document.createElement('button');\n",
              "  inputElement.parentElement.appendChild(cancel);\n",
              "  cancel.textContent = 'Cancel upload';\n",
              "  const cancelPromise = new Promise((resolve) => {\n",
              "    cancel.onclick = () => {\n",
              "      resolve(null);\n",
              "    };\n",
              "  });\n",
              "\n",
              "  // Wait for the user to pick the files.\n",
              "  const files = yield {\n",
              "    promise: Promise.race([pickedPromise, cancelPromise]),\n",
              "    response: {\n",
              "      action: 'starting',\n",
              "    }\n",
              "  };\n",
              "\n",
              "  cancel.remove();\n",
              "\n",
              "  // Disable the input element since further picks are not allowed.\n",
              "  inputElement.disabled = true;\n",
              "\n",
              "  if (!files) {\n",
              "    return {\n",
              "      response: {\n",
              "        action: 'complete',\n",
              "      }\n",
              "    };\n",
              "  }\n",
              "\n",
              "  for (const file of files) {\n",
              "    const li = document.createElement('li');\n",
              "    li.append(span(file.name, {fontWeight: 'bold'}));\n",
              "    li.append(span(\n",
              "        `(${file.type || 'n/a'}) - ${file.size} bytes, ` +\n",
              "        `last modified: ${\n",
              "            file.lastModifiedDate ? file.lastModifiedDate.toLocaleDateString() :\n",
              "                                    'n/a'} - `));\n",
              "    const percent = span('0% done');\n",
              "    li.appendChild(percent);\n",
              "\n",
              "    outputElement.appendChild(li);\n",
              "\n",
              "    const fileDataPromise = new Promise((resolve) => {\n",
              "      const reader = new FileReader();\n",
              "      reader.onload = (e) => {\n",
              "        resolve(e.target.result);\n",
              "      };\n",
              "      reader.readAsArrayBuffer(file);\n",
              "    });\n",
              "    // Wait for the data to be ready.\n",
              "    let fileData = yield {\n",
              "      promise: fileDataPromise,\n",
              "      response: {\n",
              "        action: 'continue',\n",
              "      }\n",
              "    };\n",
              "\n",
              "    // Use a chunked sending to avoid message size limits. See b/62115660.\n",
              "    let position = 0;\n",
              "    do {\n",
              "      const length = Math.min(fileData.byteLength - position, MAX_PAYLOAD_SIZE);\n",
              "      const chunk = new Uint8Array(fileData, position, length);\n",
              "      position += length;\n",
              "\n",
              "      const base64 = btoa(String.fromCharCode.apply(null, chunk));\n",
              "      yield {\n",
              "        response: {\n",
              "          action: 'append',\n",
              "          file: file.name,\n",
              "          data: base64,\n",
              "        },\n",
              "      };\n",
              "\n",
              "      let percentDone = fileData.byteLength === 0 ?\n",
              "          100 :\n",
              "          Math.round((position / fileData.byteLength) * 100);\n",
              "      percent.textContent = `${percentDone}% done`;\n",
              "\n",
              "    } while (position < fileData.byteLength);\n",
              "  }\n",
              "\n",
              "  // All done.\n",
              "  yield {\n",
              "    response: {\n",
              "      action: 'complete',\n",
              "    }\n",
              "  };\n",
              "}\n",
              "\n",
              "scope.google = scope.google || {};\n",
              "scope.google.colab = scope.google.colab || {};\n",
              "scope.google.colab._files = {\n",
              "  _uploadFiles,\n",
              "  _uploadFilesContinue,\n",
              "};\n",
              "})(self);\n",
              "</script> "
            ]
          },
          "metadata": {}
        },
        {
          "output_type": "stream",
          "name": "stdout",
          "text": [
            "Saving cancer_prediction_dataset.csv to cancer_prediction_dataset (2).csv\n",
            "   Gender  Age  Smoking  Fatigue  Allergy  Cancer\n",
            "0       1   85        1        0        1       0\n",
            "1       1   93        0        0        0       0\n",
            "2       1   72        0        1        0       0\n",
            "3       0   58        0        0        1       0\n",
            "4       1   95        1        0        1       1\n"
          ]
        }
      ]
    },
    {
      "cell_type": "markdown",
      "source": [
        "# Preprocesamiento de los datos"
      ],
      "metadata": {
        "id": "tf2SO9cSU061"
      }
    },
    {
      "cell_type": "code",
      "source": [
        "#Verificamos si existen valores nulos en nuestro dataset.\n",
        "dataset.isnull().sum()"
      ],
      "metadata": {
        "colab": {
          "base_uri": "https://localhost:8080/"
        },
        "id": "F4vWP0jhUiBe",
        "outputId": "a87211ac-ee44-4fd6-8981-e1293c783e9f"
      },
      "execution_count": 6,
      "outputs": [
        {
          "output_type": "execute_result",
          "data": {
            "text/plain": [
              "Gender     0\n",
              "Age        0\n",
              "Smoking    0\n",
              "Fatigue    0\n",
              "Allergy    0\n",
              "Cancer     0\n",
              "dtype: int64"
            ]
          },
          "metadata": {},
          "execution_count": 6
        }
      ]
    },
    {
      "cell_type": "markdown",
      "source": [
        "# Creación del conjunto de Entrenamiento."
      ],
      "metadata": {
        "id": "-E6TyIYEWCA1"
      }
    },
    {
      "cell_type": "code",
      "source": [
        "#Dividimos nuestro conjunto de datos en entrenamiento, separando las etiquetas y las características. (X, y)\n",
        "X = dataset.drop('Cancer', axis=1)\n",
        "y = dataset['Cancer']"
      ],
      "metadata": {
        "id": "pBSeo5Q5VJ88"
      },
      "execution_count": 12,
      "outputs": []
    },
    {
      "cell_type": "code",
      "source": [
        "#Seleccionamos la función de split, para separar nuestro conjunto de entrenamiento\n",
        "#En subconjuto de entrenamiento y subconjunto de pruebas.\n",
        "from sklearn.model_selection import train_test_split\n",
        "X_train, X_test, y_train, y_test = train_test_split(X, y, test_size=0.2, random_state=72)"
      ],
      "metadata": {
        "id": "VO5fQWvOV6Gl"
      },
      "execution_count": 13,
      "outputs": []
    },
    {
      "cell_type": "markdown",
      "source": [
        "#Suport Vector Machine (SVM)"
      ],
      "metadata": {
        "id": "ibOBHlM-dqm1"
      }
    },
    {
      "cell_type": "code",
      "source": [
        "#Selección del mejor Random state para Support Vector Machine.\n",
        "from sklearn.model_selection import train_test_split\n",
        "from sklearn.svm import SVC\n",
        "from sklearn.metrics import accuracy_score\n",
        "\n",
        "#Definimos el rango de \"Random state\" que queremos comprobar.\n",
        "random_states = range(1,101)\n",
        "best_accuracy = 0\n",
        "best_random_state= None\n",
        "\n",
        "for random_state in random_states:\n",
        "  X_train, X_test, y_train, y_test = train_test_split (X, y, test_size=0.2, random_state = random_state)\n",
        "\n",
        "  #Entrenammos un SVM con cada uno de los random state diferentes,\n",
        "  #En aras de encontrar el mejor random state.\n",
        "\n",
        "  #Selección e inicialización del algoritmo.\n",
        "  svm_classifier = SVC(kernel=\"linear\")\n",
        "  #Entrenamiento del algoritmo con los datos que tenemos.\n",
        "  svm_classifier.fit(X_train, y_train)\n",
        "  #Predicciones del algoritmo con el conjunto de datos de prueba.\n",
        "  y_pred= svm_classifier.predict(X_test)\n",
        "  #Evaluación de la presición del algoritmo. (Yreal vs Ypredicho)\n",
        "  accuracy = accuracy_score(y_test, y_pred)\n",
        "\n",
        "\n",
        "  if accuracy > best_accuracy:\n",
        "    best_accuracy = accuracy\n",
        "    best_random_state= random_state\n",
        "\n",
        "#Imprimimos los mejores valores de nuestro rango de prueba.\n",
        "print(f\"El mejor random state: {best_random_state}\")\n",
        "print(f\"Mejor presición: {best_accuracy}\")\n"
      ],
      "metadata": {
        "colab": {
          "base_uri": "https://localhost:8080/"
        },
        "id": "pkF8nrqkWeCO",
        "outputId": "a800e2df-158f-4cf2-e0c4-4421f596609b"
      },
      "execution_count": 14,
      "outputs": [
        {
          "output_type": "stream",
          "name": "stdout",
          "text": [
            "El mejor random state: 76\n",
            "Mejor presición: 0.92\n"
          ]
        }
      ]
    },
    {
      "cell_type": "markdown",
      "source": [
        "#Árbol de decisión - Decision Tree"
      ],
      "metadata": {
        "id": "vUbiTjCNdJd8"
      }
    },
    {
      "cell_type": "code",
      "source": [
        "from sklearn.model_selection import train_test_split\n",
        "from sklearn.tree import DecisionTreeClassifier\n",
        "from sklearn.metrics import accuracy_score\n",
        "\n",
        "random_states = range (1,101)\n",
        "best_accuracy= 0\n",
        "best_random_state=None\n",
        "\n",
        "for random_state in random_states:\n",
        "\n",
        "  X_train, X_test, y_train, y_test = train_test_split(X, y, test_size= 0.2, random_state= random_state)\n",
        "\n",
        "  #Inicializamos el árbol de decisión.\n",
        "  dt_classifier = DecisionTreeClassifier(random_state=42)\n",
        "\n",
        "  dt_classifier.fit(X_train, y_train)\n",
        "\n",
        "  y_pred = dt_classifier.predict(X_test)\n",
        "\n",
        "  accuracy = accuracy_score(y_test, y_pred)\n",
        "\n",
        "  if accuracy > best_accuracy:\n",
        "    best_accuracy = accuracy\n",
        "    best_random_state= random_state\n",
        "\n",
        "print(f\"El mejor random state para árbol de decisión de éste ejercicio: {best_random_state}\")\n",
        "print(f\"Presición para ese random_state: {best_accuracy}\")\n",
        "\n"
      ],
      "metadata": {
        "colab": {
          "base_uri": "https://localhost:8080/"
        },
        "id": "ud9pUg5hdJA0",
        "outputId": "4bf5eaa9-1a22-449e-fc61-dc92ee757053"
      },
      "execution_count": 17,
      "outputs": [
        {
          "output_type": "stream",
          "name": "stdout",
          "text": [
            "El mejor random state para árbol de decisión de éste ejercicio: 76\n",
            "Presición para ese random_state: 0.918\n"
          ]
        }
      ]
    },
    {
      "cell_type": "markdown",
      "source": [
        "# Random forest.\n"
      ],
      "metadata": {
        "id": "gqm6Y-UffOVr"
      }
    },
    {
      "cell_type": "code",
      "source": [
        "from sklearn.model_selection import train_test_split\n",
        "from sklearn.ensemble import RandomForestClassifier\n",
        "from sklearn.metrics import accuracy_score\n",
        "\n",
        "random_states = range(1,101)\n",
        "\n",
        "best_accuracy = 0\n",
        "best_random_state = None\n",
        "\n",
        "for random_state in random_states:\n",
        "\n",
        "  X_train, X_test, y_train, y_test = train_test_split(X, y, test_size=0.2, random_state=random_state)\n",
        "\n",
        "  #Inicializamos el algoritmo de RandomForest.\n",
        "  rf_classifier = RandomForestClassifier(random_state=42)\n",
        "\n",
        "  #Entrenamos el random forest.\n",
        "  rf_classifier.fit(X_train, y_train)\n",
        "\n",
        "  y_pred = rf_classifier.predict(X_test)\n",
        "\n",
        "  accuracy = accuracy_score(y_test, y_pred)\n",
        "\n",
        "  if accuracy > best_accuracy:\n",
        "    best_accuracy = accuracy\n",
        "    best_random_state = random_state\n",
        "\n",
        "print(f\"El mejor random_state - Arboles de decisión: {best_random_state}\")\n",
        "print(f\"Su presición: {best_accuracy}\")\n",
        "\n"
      ],
      "metadata": {
        "colab": {
          "base_uri": "https://localhost:8080/"
        },
        "id": "gOyyG2tGfNLk",
        "outputId": "1fa0b7cd-ba72-4e3e-db9c-587e256470c4"
      },
      "execution_count": 18,
      "outputs": [
        {
          "output_type": "stream",
          "name": "stdout",
          "text": [
            "El mejor random_state - Arboles de decisión: 48\n",
            "Su presición: 0.914\n"
          ]
        }
      ]
    },
    {
      "cell_type": "markdown",
      "source": [
        "#Regresión Logística"
      ],
      "metadata": {
        "id": "9QbP8isuhh7F"
      }
    },
    {
      "cell_type": "code",
      "source": [
        "from sklearn.model_selection import train_test_split\n",
        "from sklearn.linear_model import LogisticRegression\n",
        "from sklearn.metrics import accuracy_score\n",
        "\n",
        "\n",
        "random_states = range(1, 101)\n",
        "\n",
        "best_accuracy = 0\n",
        "best_random_state = None\n",
        "\n",
        "for random_state in random_states:\n",
        "    X_train, X_test, y_train, y_test = train_test_split(X, y, test_size=0.2, random_state=random_state)\n",
        "\n",
        "\n",
        "    logistic_regression = LogisticRegression(max_iter=1000, random_state=42)\n",
        "\n",
        "\n",
        "    logistic_regression.fit(X_train, y_train)\n",
        "\n",
        "\n",
        "    y_pred = logistic_regression.predict(X_test)\n",
        "\n",
        "\n",
        "    accuracy = accuracy_score(y_test, y_pred)\n",
        "\n",
        "    if accuracy > best_accuracy:\n",
        "        best_accuracy = accuracy\n",
        "        best_random_state = random_state\n",
        "\n",
        "print(f'Mejor randon_state - Regresión logística: {best_random_state}')\n",
        "print(f'Presición para ése random_state: {best_accuracy}')"
      ],
      "metadata": {
        "colab": {
          "base_uri": "https://localhost:8080/"
        },
        "id": "dhEcWweqg6ME",
        "outputId": "cf5e383a-df9e-4076-abed-b1db0f6a3e88"
      },
      "execution_count": 20,
      "outputs": [
        {
          "output_type": "stream",
          "name": "stdout",
          "text": [
            "Mejor randon_state - Regresión logística: 76\n",
            "Presición para ése random_state: 0.92\n"
          ]
        }
      ]
    },
    {
      "cell_type": "markdown",
      "source": [
        "#Extreme Gradient Boosting"
      ],
      "metadata": {
        "id": "4nin8PvQh_3U"
      }
    },
    {
      "cell_type": "code",
      "source": [
        "from sklearn.model_selection import train_test_split\n",
        "from xgboost import XGBClassifier\n",
        "from sklearn.metrics import accuracy_score\n",
        "\n",
        "random_states = range(1, 101)\n",
        "\n",
        "best_accuracy = 0\n",
        "best_random_state = None\n",
        "\n",
        "for random_state in random_states:\n",
        "    X_train, X_test, y_train, y_test = train_test_split(X, y, test_size=0.2, random_state=random_state)\n",
        "\n",
        "\n",
        "    xgb_classifier = XGBClassifier(random_state=42)\n",
        "\n",
        "\n",
        "    xgb_classifier.fit(X_train, y_train)\n",
        "\n",
        "\n",
        "    y_pred = xgb_classifier.predict(X_test)\n",
        "\n",
        "\n",
        "    accuracy = accuracy_score(y_test, y_pred)\n",
        "\n",
        "    if accuracy > best_accuracy:\n",
        "        best_accuracy = accuracy\n",
        "        best_random_state = random_state\n",
        "\n",
        "print(f'Mejor randon_state - Extreme Gradient Boosting: {best_random_state}')\n",
        "print(f'Presición para este randon state: {best_accuracy}')"
      ],
      "metadata": {
        "colab": {
          "base_uri": "https://localhost:8080/"
        },
        "id": "xGsOGKH6h_el",
        "outputId": "9fdbe531-365b-4252-95bb-6bfdc8c602ab"
      },
      "execution_count": 21,
      "outputs": [
        {
          "output_type": "stream",
          "name": "stdout",
          "text": [
            "Mejor randon_state - Extreme Gradient Boosting: 76\n",
            "Presición para este randon state: 0.9195\n"
          ]
        }
      ]
    },
    {
      "cell_type": "markdown",
      "source": [
        "#Conclusiones\n",
        "\n",
        "Se pudo utilizar diversos algoritmos de clasificación para el ejercicio que plantea la indentificación de personas con cáncer a partir de un dataset ficticio que muestra diferentes características presentes en una persona con o sin cáncer, todos mostraron muy buenos resultados."
      ],
      "metadata": {
        "id": "x-0nBVO7iRaM"
      }
    },
    {
      "cell_type": "code",
      "source": [],
      "metadata": {
        "id": "TqUk6cYXid-p"
      },
      "execution_count": null,
      "outputs": []
    }
  ],
  "metadata": {
    "kernelspec": {
      "display_name": "Python 3",
      "language": "python",
      "name": "python3"
    },
    "language_info": {
      "codemirror_mode": {
        "name": "ipython",
        "version": 3
      },
      "file_extension": ".py",
      "mimetype": "text/x-python",
      "name": "python",
      "nbconvert_exporter": "python",
      "pygments_lexer": "ipython3",
      "version": "3.7.4"
    },
    "colab": {
      "provenance": [],
      "include_colab_link": true
    }
  },
  "nbformat": 4,
  "nbformat_minor": 0
}